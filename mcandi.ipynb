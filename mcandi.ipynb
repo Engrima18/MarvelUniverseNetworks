{
 "cells": [
  {
   "attachments": {},
   "cell_type": "markdown",
   "id": "3e8ebc26",
   "metadata": {},
   "source": [
    "**Data Cleaning**"
   ]
  },
  {
   "cell_type": "code",
   "execution_count": 6,
   "id": "686b8c4f",
   "metadata": {},
   "outputs": [],
   "source": [
    "# Import data.\n",
    "edges = pd.read_csv(r'dataset\\archive\\edges.csv')\n",
    "hero_network = pd.read_csv(r'dataset\\archive\\hero-network.csv')\n",
    "nodes = pd.read_csv(r'dataset\\archive\\nodes.csv')\n",
    "\n",
    "# Remove last space and \"/\" if present.\n",
    "def remove_extra(row):\n",
    "    return row.rstrip().rstrip('/')\n",
    "\n",
    "hero_network['hero1'] = hero_network['hero1'].apply(remove_extra)\n",
    "hero_network['hero2'] = hero_network['hero2'].apply(remove_extra)\n",
    "edges['hero'] = edges['hero'].apply(remove_extra)\n",
    "edges['comic'] = edges['comic'].apply(remove_extra)\n",
    "nodes['node'] = nodes['node'].apply(remove_extra)\n",
    "\n",
    "# Cut to max 20 characters hero's names.\n",
    "edges['hero'] = edges['hero'].apply(lambda row: row[:20])\n",
    "nodes['node'] = nodes['node'].apply(lambda row: row[:20])\n",
    "\n",
    "# Remove row with same hero (self-loop).\n",
    "hero_network.drop(hero_network[hero_network.hero1 == hero_network.hero2].index, inplace=True)\n",
    "hero_net = hero_network.reset_index(drop=True)"
   ]
  },
  {
   "attachments": {},
   "cell_type": "markdown",
   "id": "d6bb7f3d",
   "metadata": {},
   "source": [
    "**First Graph**\n",
    "\n",
    "For this function use hero_network dataset.\n",
    "\n",
    "The number of *nodes* is the same of the unique heroes in all the dataset and *edges* are weighted with $w_{AB} = \\frac{1}{n_{AB}}$ where $n_{AB}$ is the number of edges between node A and node B and $w_{AB}$ the weight of the single edge between these nodes.\n",
    "\n",
    "The created graph is `undirected` and `weighted` and there are no self-loops or multiple edges."
   ]
  },
  {
   "cell_type": "code",
   "execution_count": 3,
   "id": "5a0c670a",
   "metadata": {},
   "outputs": [],
   "source": [
    "def first_graph(dataset):\n",
    "\n",
    "    # Remake the dataframe sorting the names by row to check duplicates.\n",
    "    dataset = pd.DataFrame(np.sort(dataset.values), columns=dataset.columns)\n",
    "\n",
    "    # Store the edges weights in a sorted dictionary.\n",
    "    edges_weight = dict(sorted(dict(round(1 / (dataset.hero1 + dataset.hero2).value_counts(), 5)).items()))\n",
    "\n",
    "    # Drop duplicates.\n",
    "    dataset.drop_duplicates(inplace=True)\n",
    "\n",
    "    # Create \"weight\" column.\n",
    "    dataset = dataset.sort_values(by=['hero1', 'hero2'])\n",
    "    dataset['weight'] = edges_weight.values()\n",
    "\n",
    "    # Generate the graph.\n",
    "    graph = nx.from_pandas_edgelist(dataset, 'hero1', 'hero2', 'weight')\n",
    "\n",
    "    return graph"
   ]
  },
  {
   "attachments": {},
   "cell_type": "markdown",
   "id": "bc593592",
   "metadata": {},
   "source": [
    "**Second Graph**\n",
    "\n",
    "For this function we need the dataset with nodes and the one with edges to generate the graph.\n",
    "\n",
    "The graph is `undirected` and `unweighted`."
   ]
  },
  {
   "cell_type": "code",
   "execution_count": 4,
   "id": "acd7f024",
   "metadata": {},
   "outputs": [],
   "source": [
    "def second_graph(nodes, edges):\n",
    "    graph = nx.Graph()\n",
    "    graph = nx.from_pandas_edgelist(edges, 'hero', 'comic')\n",
    "    node_attr = nodes.apply(lambda row: (row.node, {'type': row.type}), axis=1)\n",
    "    graph.add_nodes_from(node_attr)\n",
    "    return graph"
   ]
  },
  {
   "attachments": {},
   "cell_type": "markdown",
   "id": "4518fdf5",
   "metadata": {},
   "source": [
    "---"
   ]
  },
  {
   "cell_type": "code",
   "execution_count": 33,
   "id": "a62b4de4",
   "metadata": {},
   "outputs": [],
   "source": [
    "from functions import load_graph_1, load_graph_2, top_N_filter\n",
    "import networkx as nx\n",
    "import pandas as pd\n",
    "import numpy as np\n",
    "\n",
    "graph1 = load_graph_1()\n",
    "graph2 = load_graph_2()"
   ]
  },
  {
   "attachments": {},
   "cell_type": "markdown",
   "id": "af9d67a3",
   "metadata": {},
   "source": [
    "### Functionality 3"
   ]
  },
  {
   "cell_type": "code",
   "execution_count": 24,
   "id": "14092e7d",
   "metadata": {},
   "outputs": [],
   "source": [
    "def functionality_3(graph, h, h_1, h_n, N=6439):\n",
    "\n",
    "    # Keep only the top N heroes.\n",
    "    graph = top_N_filter(graph, N)\n",
    "\n",
    "    # Check if all the heroes of the list are in the graph.\n",
    "    seq = [h_1] + h + [h_n]\n",
    "    if not all(i in graph.nodes() for i in seq):\n",
    "        return f\"Not all the heroes are in the graph! Try to increase N.\"\n",
    "\n",
    "    # Find all the intermediate shortest paths.\n",
    "    path = []\n",
    "    source = h_1\n",
    "    for hero in seq[1:]:\n",
    "        target = hero\n",
    "        try:\n",
    "            new_steps = nx.shortest_path(graph, source, target)\n",
    "            path.extend(new_steps[1:])\n",
    "            source = hero\n",
    "        except:\n",
    "            return \"There is no such path\"\n",
    "        \n",
    "    # Take only the comics that the shortest path visits.\n",
    "    comics = [step for step in path if graph.nodes[step]['type'] == 'comic']\n",
    "\n",
    "    # Remove a comic if appears more than one time consecutively.\n",
    "    comics = [comic for pos,comic in enumerate(comics[:-1]) if comic != comics[pos+1]] + [comics[-1]]\n",
    "\n",
    "    return comics"
   ]
  },
  {
   "cell_type": "code",
   "execution_count": 32,
   "id": "7e55e2f1",
   "metadata": {},
   "outputs": [
    {
     "name": "stdout",
     "output_type": "stream",
     "text": [
      "Not all the heroes are in the graph! Try to increase N.\n",
      "['XCAL 57', 'COC 1', 'BP3 8', 'COC 1']\n"
     ]
    }
   ],
   "source": [
    "h = ['SCARLET WITCH/WANDA', 'ZURI', 'THOR/DR. DONALD BLAK']\n",
    "h_n = 'INVISIBLE WOMAN/SUE'\n",
    "h_1 = 'ALCHEMY/THOMAS JONES'\n",
    "\n",
    "print(functionality_3(graph2, h, h_1, h_n, N =1000))\n",
    "\n",
    "print(functionality_3(graph2, h, h_1, h_n))"
   ]
  },
  {
   "attachments": {},
   "cell_type": "markdown",
   "id": "653e40ba",
   "metadata": {},
   "source": [
    "### Visualization 3"
   ]
  }
 ],
 "metadata": {
  "kernelspec": {
   "display_name": "Python 3",
   "language": "python",
   "name": "python3"
  },
  "language_info": {
   "codemirror_mode": {
    "name": "ipython",
    "version": 3
   },
   "file_extension": ".py",
   "mimetype": "text/x-python",
   "name": "python",
   "nbconvert_exporter": "python",
   "pygments_lexer": "ipython3",
   "version": "3.10.9"
  },
  "vscode": {
   "interpreter": {
    "hash": "773286f42bdafd8588749582ed653d25b280a530e585f5f155cb0082e5f8cdaa"
   }
  }
 },
 "nbformat": 4,
 "nbformat_minor": 5
}

{
 "cells": [
  {
   "cell_type": "code",
   "execution_count": 211,
   "id": "8cc987ea-5427-4b64-942b-054794002f46",
   "metadata": {},
   "outputs": [],
   "source": [
    "import networkx as nx\n",
    "import pandas as pd\n",
    "import numpy as np"
   ]
  },
  {
   "attachments": {},
   "cell_type": "markdown",
   "id": "3e8ebc26",
   "metadata": {},
   "source": [
    "**Data Cleaning**"
   ]
  },
  {
   "cell_type": "code",
   "execution_count": 212,
   "id": "686b8c4f",
   "metadata": {},
   "outputs": [],
   "source": [
    "# Import data.\n",
    "edges = pd.read_csv(r'dataset\\archive\\edges.csv')\n",
    "hero_net = pd.read_csv(r'dataset\\archive\\hero-network.csv')\n",
    "nodes = pd.read_csv(r'dataset\\archive\\nodes.csv')\n",
    "\n",
    "# Remove last space if present.\n",
    "hero_net['hero1'] = hero_net['hero1'].apply(lambda row: row.rstrip().rstrip('/'))\n",
    "hero_net['hero2'] = hero_net['hero2'].apply(lambda row: row.rstrip().rstrip('/'))\n",
    "\n",
    "# Cut to max 20 characters hero's names.\n",
    "edges['hero'] = edges['hero'].apply(lambda row: row[:20])\n",
    "nodes['node'] = nodes['node'].apply(lambda row: row[:20])\n",
    "\n",
    "# Remove row with same hero (self-loop).\n",
    "hero_net.drop(hero_net[hero_net.hero1 == hero_net.hero2].index, inplace=True)\n",
    "hero_net = hero_net.reset_index(drop=True)"
   ]
  },
  {
   "attachments": {},
   "cell_type": "markdown",
   "id": "d6bb7f3d",
   "metadata": {},
   "source": [
    "**First Graph**\n",
    "\n",
    "For this function use hero_network dataset.\n",
    "\n",
    "The number of *nodes* is the same of the unique heroes in all the dataset and *edges* are weighted with $w_{AB} = \\frac{1}{n_{AB}}$ where $n_{AB}$ is the number of edges between node A and node B and $w_{AB}$ the weight of the single edge between these nodes.\n",
    "\n",
    "The created graph is `undirected` and `weighted` and there are no self-loops or multiple edges."
   ]
  },
  {
   "cell_type": "code",
   "execution_count": 203,
   "id": "5a0c670a",
   "metadata": {},
   "outputs": [],
   "source": [
    "def first_graph(dataset):\n",
    "\n",
    "    # Remake the dataframe sorting the names by row to check duplicates.\n",
    "    dataset = pd.DataFrame(np.sort(dataset.values), columns=dataset.columns)\n",
    "\n",
    "    # Store the edges weights in a sorted dictionary.\n",
    "    edges_weight = dict(sorted(dict(round(1 / (dataset.hero1 + dataset.hero2).value_counts(), 5)).items()))\n",
    "\n",
    "    # Drop duplicates.\n",
    "    dataset.drop_duplicates(inplace=True)\n",
    "\n",
    "    # Create \"weight\" column.\n",
    "    dataset = dataset.sort_values(by=['hero1', 'hero2'])\n",
    "    dataset['weight'] = edges_weight.values()\n",
    "\n",
    "    # Generate the graph.\n",
    "    graph = nx.from_pandas_edgelist(dataset, 'hero1', 'hero2', 'weight')\n",
    "\n",
    "    return graph"
   ]
  },
  {
   "attachments": {},
   "cell_type": "markdown",
   "id": "bc593592",
   "metadata": {},
   "source": [
    "**Second Graph**\n",
    "\n",
    "For this function we just need the dataset with edges to generate the graph."
   ]
  },
  {
   "cell_type": "code",
   "execution_count": null,
   "id": "acd7f024",
   "metadata": {},
   "outputs": [],
   "source": [
    "def second_graph(dataset):\n",
    "    graph = nx.from_pandas_edgelist(dataset, 'hero', 'comic')\n",
    "    return graph"
   ]
  },
  {
   "attachments": {},
   "cell_type": "markdown",
   "id": "4518fdf5",
   "metadata": {},
   "source": [
    "---"
   ]
  }
 ],
 "metadata": {
  "kernelspec": {
   "display_name": "Python 3",
   "language": "python",
   "name": "python3"
  },
  "language_info": {
   "codemirror_mode": {
    "name": "ipython",
    "version": 3
   },
   "file_extension": ".py",
   "mimetype": "text/x-python",
   "name": "python",
   "nbconvert_exporter": "python",
   "pygments_lexer": "ipython3",
   "version": "3.10.9"
  },
  "vscode": {
   "interpreter": {
    "hash": "773286f42bdafd8588749582ed653d25b280a530e585f5f155cb0082e5f8cdaa"
   }
  }
 },
 "nbformat": 4,
 "nbformat_minor": 5
}

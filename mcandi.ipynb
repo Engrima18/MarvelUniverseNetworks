{
 "cells": [
  {
   "cell_type": "code",
   "execution_count": 1,
   "id": "8cc987ea-5427-4b64-942b-054794002f46",
   "metadata": {},
   "outputs": [],
   "source": [
    "import networkx as nx\n",
    "import pandas as pd\n",
    "import numpy as np"
   ]
  },
  {
   "cell_type": "code",
   "execution_count": 116,
   "id": "686b8c4f",
   "metadata": {},
   "outputs": [],
   "source": [
    "edges = pd.read_csv(r'dataset\\archive\\edges.csv')\n",
    "hero_net = pd.read_csv(r'dataset\\archive\\hero-network.csv')\n",
    "nodes = pd.read_csv(r'dataset\\archive\\nodes.csv')"
   ]
  },
  {
   "cell_type": "code",
   "execution_count": 117,
   "id": "cc31f812",
   "metadata": {},
   "outputs": [],
   "source": [
    "# Remove last space if present.\n",
    "hero_net['hero1'] = hero_net['hero1'].apply(lambda row: row.rstrip().rstrip('/'))\n",
    "hero_net['hero2'] = hero_net['hero2'].apply(lambda row: row.rstrip().rstrip('/'))\n",
    "\n",
    "# Cut to max 20 characters hero's names.\n",
    "edges['hero'] = edges['hero'].apply(lambda row: row[:20])\n",
    "\n",
    "# Remove row with same hero (self-loop).\n",
    "hero_net.drop(hero_net[hero_net.hero1 == hero_net.hero2].index, inplace=True)\n",
    "hero_net = hero_net.reset_index(drop=True)"
   ]
  }
 ],
 "metadata": {
  "kernelspec": {
   "display_name": "Python 3",
   "language": "python",
   "name": "python3"
  },
  "language_info": {
   "codemirror_mode": {
    "name": "ipython",
    "version": 3
   },
   "file_extension": ".py",
   "mimetype": "text/x-python",
   "name": "python",
   "nbconvert_exporter": "python",
   "pygments_lexer": "ipython3",
   "version": "3.10.9"
  },
  "vscode": {
   "interpreter": {
    "hash": "773286f42bdafd8588749582ed653d25b280a530e585f5f155cb0082e5f8cdaa"
   }
  }
 },
 "nbformat": 4,
 "nbformat_minor": 5
}

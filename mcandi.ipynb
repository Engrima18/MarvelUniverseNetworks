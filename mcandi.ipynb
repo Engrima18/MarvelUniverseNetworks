{
 "cells": [
  {
   "cell_type": "code",
   "execution_count": null,
   "id": "d5408926",
   "metadata": {},
   "outputs": [],
   "source": [
    "import networkx as nx\n",
    "import pandas as pd\n",
    "import numpy as np"
   ]
  },
  {
   "attachments": {},
   "cell_type": "markdown",
   "id": "3e8ebc26",
   "metadata": {},
   "source": [
    "**Data Cleaning**"
   ]
  },
  {
   "cell_type": "code",
   "execution_count": 6,
   "id": "686b8c4f",
   "metadata": {},
   "outputs": [],
   "source": [
    "# Import data.\n",
    "edges = pd.read_csv(r'dataset\\archive\\edges.csv')\n",
    "hero_network = pd.read_csv(r'dataset\\archive\\hero-network.csv')\n",
    "nodes = pd.read_csv(r'dataset\\archive\\nodes.csv')\n",
    "\n",
    "# Remove last space and \"/\" if present.\n",
    "def remove_extra(row):\n",
    "    return row.rstrip().rstrip('/')\n",
    "\n",
    "hero_network['hero1'] = hero_network['hero1'].apply(remove_extra)\n",
    "hero_network['hero2'] = hero_network['hero2'].apply(remove_extra)\n",
    "edges['hero'] = edges['hero'].apply(remove_extra)\n",
    "edges['comic'] = edges['comic'].apply(remove_extra)\n",
    "nodes['node'] = nodes['node'].apply(remove_extra)\n",
    "\n",
    "# Cut to max 20 characters hero's names.\n",
    "edges['hero'] = edges['hero'].apply(lambda row: row[:20])\n",
    "nodes['node'] = nodes['node'].apply(lambda row: row[:20])\n",
    "\n",
    "# Remove row with same hero (self-loop).\n",
    "hero_network.drop(hero_network[hero_network.hero1 == hero_network.hero2].index, inplace=True)\n",
    "hero_net = hero_network.reset_index(drop=True)"
   ]
  },
  {
   "attachments": {},
   "cell_type": "markdown",
   "id": "d6bb7f3d",
   "metadata": {},
   "source": [
    "**First Graph**\n",
    "\n",
    "For this function use hero_network dataset.\n",
    "\n",
    "The number of *nodes* is the same of the unique heroes in all the dataset and *edges* are weighted with $w_{AB} = \\frac{1}{n_{AB}}$ where $n_{AB}$ is the number of edges between node A and node B and $w_{AB}$ the weight of the single edge between these nodes.\n",
    "\n",
    "The created graph is `undirected` and `weighted` and there are no self-loops or multiple edges."
   ]
  },
  {
   "cell_type": "code",
   "execution_count": 3,
   "id": "5a0c670a",
   "metadata": {},
   "outputs": [],
   "source": [
    "def first_graph(dataset):\n",
    "\n",
    "    # Remake the dataframe sorting the names by row to check duplicates.\n",
    "    dataset = pd.DataFrame(np.sort(dataset.values), columns=dataset.columns)\n",
    "\n",
    "    # Store the edges weights in a sorted dictionary.\n",
    "    edges_weight = dict(sorted(dict(round(1 / (dataset.hero1 + dataset.hero2).value_counts(), 5)).items()))\n",
    "\n",
    "    # Drop duplicates.\n",
    "    dataset.drop_duplicates(inplace=True)\n",
    "\n",
    "    # Create \"weight\" column.\n",
    "    dataset = dataset.sort_values(by=['hero1', 'hero2'])\n",
    "    dataset['weight'] = edges_weight.values()\n",
    "\n",
    "    # Generate the graph.\n",
    "    graph = nx.from_pandas_edgelist(dataset, 'hero1', 'hero2', 'weight')\n",
    "\n",
    "    return graph"
   ]
  },
  {
   "attachments": {},
   "cell_type": "markdown",
   "id": "bc593592",
   "metadata": {},
   "source": [
    "**Second Graph**\n",
    "\n",
    "For this function we need the dataset with nodes and the one with edges to generate the graph.\n",
    "\n",
    "The graph is `undirected` and `unweighted`."
   ]
  },
  {
   "cell_type": "code",
   "execution_count": 4,
   "id": "acd7f024",
   "metadata": {},
   "outputs": [],
   "source": [
    "def second_graph(nodes, edges):\n",
    "    graph = nx.Graph()\n",
    "    graph = nx.from_pandas_edgelist(edges, 'hero', 'comic')\n",
    "    node_attr = nodes.apply(lambda row: (row.node, {'type': row.type}), axis=1)\n",
    "    graph.add_nodes_from(node_attr)\n",
    "    return graph"
   ]
  },
  {
   "attachments": {},
   "cell_type": "markdown",
   "id": "4518fdf5",
   "metadata": {},
   "source": [
    "---"
   ]
  },
  {
   "cell_type": "code",
   "execution_count": 1,
   "id": "a62b4de4",
   "metadata": {},
   "outputs": [],
   "source": [
    "from functions import load_graph_1, load_graph_2, top_N_filter\n",
    "import matplotlib.pyplot as plt\n",
    "from random import sample\n",
    "import networkx as nx\n",
    "import pandas as pd\n",
    "import numpy as np\n",
    "\n",
    "graph1 = load_graph_1()\n",
    "graph2 = load_graph_2()"
   ]
  },
  {
   "attachments": {},
   "cell_type": "markdown",
   "id": "af9d67a3",
   "metadata": {},
   "source": [
    "### Functionality and Visualization 3"
   ]
  },
  {
   "attachments": {},
   "cell_type": "markdown",
   "id": "07d48d35",
   "metadata": {},
   "source": [
    "As input of our **_Functionality 3_** we need a value of N to run our function only on the graph with top N heroes. This imply that if we use as input for **h_1**, **h** and **h_n** some heroes that are not in the top N, the algorithm cannot run. Given this we can use the following function to extract randomly these three values from the list of the top N heroes or otherwise the **_Functionality 3_** will check if all the heroes are in the given graph of top N; if that doesn't happen the function will return the message: \"`Not all the heroes are in the graph! Try to increase N`\"."
   ]
  },
  {
   "cell_type": "code",
   "execution_count": 2,
   "id": "ae5d44f0",
   "metadata": {},
   "outputs": [],
   "source": [
    "def set_h(graph2, len_h, N= 6439):\n",
    "\n",
    "    # Condition on dimension of the sequence compared number N of heroes.\n",
    "    if len_h + 2 > N:\n",
    "        print('N too low or len_h too high! Try to change values')\n",
    "        return 0, [0], 0\n",
    "\n",
    "    # List of top N heroes.\n",
    "    graph = top_N_filter(graph2, N, remove_isolates=True)\n",
    "    heroes = [node[0] for node in graph.nodes(data=True) if node[1]['type'] == 'hero']\n",
    "\n",
    "    # Take randomly first hero.\n",
    "    h_1 = sample(heroes, 1)[0]\n",
    "    heroes.remove(h_1)\n",
    "\n",
    "    # Take randomly last hero.\n",
    "    h_n = sample(heroes, 1)[0]\n",
    "    heroes.remove(h_n)\n",
    "\n",
    "    # Take randomly the heroes in the middle.\n",
    "    h = sample(heroes, len_h)\n",
    "\n",
    "    return h_1, h, h_n"
   ]
  },
  {
   "attachments": {},
   "cell_type": "markdown",
   "id": "91ff8f31",
   "metadata": {},
   "source": [
    "The **_Functionality 3_** search for the shortest path for each couple of consecutive heroes (step by step from h_1 to h_n passing consecutively through all the element of h). If some of this path does not exists it mean that we are trying to go from two different component of the graph that are not connected; in this case the function will return the message \"`There is no such path`\"."
   ]
  },
  {
   "cell_type": "code",
   "execution_count": 78,
   "id": "1c0dd477",
   "metadata": {},
   "outputs": [],
   "source": [
    "def functionality_3(graph2, h, h_1, h_n, N=6439):\n",
    "\n",
    "    # Keep only the top N heroes.\n",
    "    graph = top_N_filter(graph2, N, remove_isolates=True)\n",
    "\n",
    "    # Check if all the heroes of the list are in the graph.\n",
    "    seq = [h_1] + h + [h_n]\n",
    "    if not all(i in graph.nodes() for i in seq):\n",
    "        print(\"Not all the heroes are in the graph! Try to increase N\")\n",
    "        return -1\n",
    "\n",
    "    # Find all the intermediate shortest paths.\n",
    "    path = []\n",
    "    for pos in range(len(seq)-1):\n",
    "        source = seq[pos]\n",
    "        target = seq[pos+1]\n",
    "        try:\n",
    "            new_step = nx.shortest_path(graph, source, target)\n",
    "\n",
    "            # Check if the shortest path do not pass for nodes that appear later in list.\n",
    "            if len(set(seq[pos+2:]).intersection(new_step)) == 0:\n",
    "                path.extend(new_step[1:])\n",
    "            else:\n",
    "\n",
    "                # Find all the shortest paths and take the first that pass the condition.\n",
    "                step_list = nx.all_shortest_paths(graph, source, target)\n",
    "                for step in step_list:\n",
    "                    if len(set(seq[pos+2:]).intersection(new_step)) == 0:\n",
    "                        path.extend(step[1:])\n",
    "                        break\n",
    "\n",
    "        except:\n",
    "            print(\"There is no such path\")\n",
    "            return 0\n",
    "        \n",
    "    # Take only the comics that the shortest path visits.\n",
    "    comics = [step for step in path if graph.nodes[step]['type'] == 'comic']\n",
    "\n",
    "    # Remove a comic if appears more than one time consecutively.\n",
    "    comics = [comic for pos,comic in enumerate(comics[:-1]) if comic != comics[pos+1]] + [comics[-1]]\n",
    "\n",
    "    print(f'The comics path from {h_1} to {h_n} is: {comics}')\n",
    "\n",
    "    return [h_1] + path"
   ]
  },
  {
   "attachments": {},
   "cell_type": "markdown",
   "id": "31a87db3",
   "metadata": {},
   "source": [
    "The **_Visualization 3_** function take as input the same values of **_Functionality 3_** beacause it is used within it: the shortest path that pass for all the sequence of heroes is returned and this function basically plot this path after create the graph, assign the attribute \"type\" to each node and set the node color based on this value. The graph present on the left all the comics and on the right all the heroes."
   ]
  },
  {
   "cell_type": "code",
   "execution_count": 68,
   "id": "8d97213e",
   "metadata": {},
   "outputs": [],
   "source": [
    "def visualization_3(graph2, h, h_1, h_n, N=6439):\n",
    "\n",
    "    # Check if input value are good.\n",
    "    if h_1 == 0:\n",
    "        return\n",
    "\n",
    "    path = functionality_3(graph2, h, h_1, h_n, N=N)\n",
    "\n",
    "    # Handle exceptions: if there ids no path or not all heroes are in the graph.\n",
    "    if path in [0, -1]:\n",
    "        return \n",
    "\n",
    "    # Create the graph.\n",
    "    G = nx.DiGraph()\n",
    "    for i in range(len(path)-1):\n",
    "        G.add_edge(path[i], path[i+1], weight = i)\n",
    "    \n",
    "    # Set type attribute to nodes.\n",
    "    attr = {}\n",
    "    for node in G.nodes():\n",
    "        attr[node] = graph2.nodes[node]\n",
    "    nx.set_node_attributes(G, attr)\n",
    "\n",
    "    # Set different color for comics and heroes.\n",
    "    node_color, color_comic, color_hero = [], 'green', 'red'\n",
    "    for node in G.nodes(data=True):\n",
    "        if node[1]['type'] == 'comic':\n",
    "            node_color.append(color_comic)\n",
    "        elif node[1]['type'] == 'hero':\n",
    "            node_color.append(color_hero)\n",
    "\n",
    "    # Plot the graph.\n",
    "    pos = {}\n",
    "    pos.update( (n[0], (1, i*2)) for i, n in enumerate(G.nodes(data=True)) if n[1]['type'] == 'comic')\n",
    "    pos.update( (n[0], (2, i*2)) for i, n in enumerate(G.nodes(data=True)) if n[1]['type'] == 'hero')\n",
    "\n",
    "    nx.draw_networkx_nodes(G, pos, node_color=node_color, alpha=.7, node_size=450, node_shape='8')\n",
    "    nx.draw_networkx_edges(G, pos, edgelist=G.edges(), width=1, alpha=.5, connectionstyle=\"arc3,rad=0.01\")\n",
    "    nx.draw_networkx_labels(G, pos, font_size=5)\n",
    "\n",
    "    edge_labels = nx.get_edge_attributes(G,'weight')\n",
    "    nx.draw_networkx_edge_labels(G, pos, edge_labels, font_size=5)\n",
    "\n",
    "    handles = [plt.plot([], \"o\", color=c)[0] for c in ['green', 'red']]\n",
    "    plt.legend(handles, ['Comic', 'Hero'], ncol=2, loc=\"upper center\", frameon=False, markerscale=2)\n",
    "    plt.axis('off')\n",
    "    plt.tight_layout()\n",
    "    plt.show()"
   ]
  },
  {
   "attachments": {},
   "cell_type": "markdown",
   "id": "c0ecd4c9",
   "metadata": {},
   "source": [
    "#### OUTPUT"
   ]
  },
  {
   "cell_type": "code",
   "execution_count": 141,
   "id": "cf823d86",
   "metadata": {},
   "outputs": [
    {
     "name": "stdout",
     "output_type": "stream",
     "text": [
      "The comics path from SHANG-CHI to DAREDEVIL/MATT MURDO is: ['H2 434', \"XFOR '98\", 'NM 95', 'M/SH3 6', 'ROM 65', 'SWII 9', 'MK3 41', 'UX 353', 'COC 1']\n"
     ]
    },
    {
     "data": {
      "image/png": "[encoded data removed]",
      "text/plain": [
       "<Figure size 640x480 with 1 Axes>"
      ]
     },
     "metadata": {},
     "output_type": "display_data"
    }
   ],
   "source": [
    "N = 100\n",
    "h_1, h, h_n = set_h(graph2, len_h=7, N=N)\n",
    "\n",
    "visualization_3(graph2, h, h_1, h_n, N=N)"
   ]
  }
 ],
 "metadata": {
  "kernelspec": {
   "display_name": "Python 3",
   "language": "python",
   "name": "python3"
  },
  "language_info": {
   "codemirror_mode": {
    "name": "ipython",
    "version": 3
   },
   "file_extension": ".py",
   "mimetype": "text/x-python",
   "name": "python",
   "nbconvert_exporter": "python",
   "pygments_lexer": "ipython3",
   "version": "3.10.9"
  },
  "vscode": {
   "interpreter": {
    "hash": "773286f42bdafd8588749582ed653d25b280a530e585f5f155cb0082e5f8cdaa"
   }
  }
 },
 "nbformat": 4,
 "nbformat_minor": 5
}

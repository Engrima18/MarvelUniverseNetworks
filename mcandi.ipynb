{
 "cells": [
  {
   "cell_type": "code",
   "execution_count": 1,
   "id": "8cc987ea-5427-4b64-942b-054794002f46",
   "metadata": {},
   "outputs": [],
   "source": [
    "import networkx as nx\n",
    "import pandas as pd\n",
    "import numpy as np"
   ]
  },
  {
   "attachments": {},
   "cell_type": "markdown",
   "id": "3e8ebc26",
   "metadata": {},
   "source": [
    "**Data Cleaning**"
   ]
  },
  {
   "cell_type": "code",
   "execution_count": 2,
   "id": "686b8c4f",
   "metadata": {},
   "outputs": [],
   "source": [
    "# Import data.\n",
    "edges = pd.read_csv(r'dataset\\archive\\edges.csv')\n",
    "hero_network = pd.read_csv(r'dataset\\archive\\hero-network.csv')\n",
    "nodes = pd.read_csv(r'dataset\\archive\\nodes.csv')\n",
    "\n",
    "# Remove last space and \"/\" if present.\n",
    "def remove_extra(row):\n",
    "    return row.rstrip().rstrip('/')\n",
    "\n",
    "hero_network['hero1'] = hero_network['hero1'].apply(remove_extra)\n",
    "hero_network['hero2'] = hero_network['hero2'].apply(remove_extra)\n",
    "edges['hero'] = edges['hero'].apply(remove_extra)\n",
    "nodes['node'] = nodes['node'].apply(remove_extra)\n",
    "\n",
    "# Cut to max 20 characters hero's names.\n",
    "edges['hero'] = edges['hero'].apply(lambda row: row[:20])\n",
    "nodes['node'] = nodes['node'].apply(lambda row: row[:20])\n",
    "\n",
    "# Remove row with same hero (self-loop).\n",
    "hero_network.drop(hero_network[hero_network.hero1 == hero_network.hero2].index, inplace=True)\n",
    "hero_net = hero_network.reset_index(drop=True)"
   ]
  },
  {
   "attachments": {},
   "cell_type": "markdown",
   "id": "d6bb7f3d",
   "metadata": {},
   "source": [
    "**First Graph**\n",
    "\n",
    "For this function use hero_network dataset.\n",
    "\n",
    "The number of *nodes* is the same of the unique heroes in all the dataset and *edges* are weighted with $w_{AB} = \\frac{1}{n_{AB}}$ where $n_{AB}$ is the number of edges between node A and node B and $w_{AB}$ the weight of the single edge between these nodes.\n",
    "\n",
    "The created graph is `undirected` and `weighted` and there are no self-loops or multiple edges."
   ]
  },
  {
   "cell_type": "code",
   "execution_count": 3,
   "id": "5a0c670a",
   "metadata": {},
   "outputs": [],
   "source": [
    "def first_graph(dataset):\n",
    "\n",
    "    # Remake the dataframe sorting the names by row to check duplicates.\n",
    "    dataset = pd.DataFrame(np.sort(dataset.values), columns=dataset.columns)\n",
    "\n",
    "    # Store the edges weights in a sorted dictionary.\n",
    "    edges_weight = dict(sorted(dict(round(1 / (dataset.hero1 + dataset.hero2).value_counts(), 5)).items()))\n",
    "\n",
    "    # Drop duplicates.\n",
    "    dataset.drop_duplicates(inplace=True)\n",
    "\n",
    "    # Create \"weight\" column.\n",
    "    dataset = dataset.sort_values(by=['hero1', 'hero2'])\n",
    "    dataset['weight'] = edges_weight.values()\n",
    "\n",
    "    # Generate the graph.\n",
    "    graph = nx.from_pandas_edgelist(dataset, 'hero1', 'hero2', 'weight')\n",
    "\n",
    "    return graph"
   ]
  },
  {
   "attachments": {},
   "cell_type": "markdown",
   "id": "bc593592",
   "metadata": {},
   "source": [
    "**Second Graph**\n",
    "\n",
    "For this function we need the dataset with nodes and the one with edges to generate the graph.\n",
    "\n",
    "The graph is `undirected` and `unweighted`."
   ]
  },
  {
   "cell_type": "code",
   "execution_count": 4,
   "id": "acd7f024",
   "metadata": {},
   "outputs": [],
   "source": [
    "def second_graph(nodes, edges):\n",
    "    graph = nx.Graph()\n",
    "    graph = nx.from_pandas_edgelist(edges, 'hero', 'comic')\n",
    "    node_attr = nodes.apply(lambda row: (row.node, {'type': row.type}), axis=1)\n",
    "    graph.add_nodes_from(node_attr)\n",
    "    return graph"
   ]
  },
  {
   "attachments": {},
   "cell_type": "markdown",
   "id": "f470cbeb",
   "metadata": {},
   "source": [
    "**Top N heroes**\n",
    "\n",
    "The function return the top N heroes who have appeared in the most number of comics based on edges dataset."
   ]
  },
  {
   "cell_type": "code",
   "execution_count": 5,
   "id": "a1dde6d4",
   "metadata": {},
   "outputs": [],
   "source": [
    "# 6439 is the total number of heroes to use if N is not setted.\n",
    "def top_N_heroes(N=6439):\n",
    "    top_heroes = edges.groupby('hero').count().sort_values('comic', ascending=False)\n",
    "    return list(top_heroes.iloc[:N].index)"
   ]
  },
  {
   "attachments": {},
   "cell_type": "markdown",
   "id": "4518fdf5",
   "metadata": {},
   "source": [
    "---"
   ]
  },
  {
   "attachments": {},
   "cell_type": "markdown",
   "id": "af9d67a3",
   "metadata": {},
   "source": [
    "### Functionality 3"
   ]
  },
  {
   "cell_type": "code",
   "execution_count": 134,
   "id": "14092e7d",
   "metadata": {},
   "outputs": [],
   "source": [
    "def functionality_3(graph, h, h_1, h_n, N=6439):\n",
    "\n",
    "    # Keep only the top N heroes and remove disconnected nodes.\n",
    "    to_keep = top_N_heroes(N) + list(nodes[nodes.type == 'comic'].node)\n",
    "    subgraph = nx.Graph(graph.subgraph(to_keep))\n",
    "    subgraph.remove_nodes_from(list(nx.isolates(subgraph)))\n",
    "\n",
    "    # Find all the intermidiate shortest paths.\n",
    "    path = []\n",
    "    source = h_1\n",
    "\n",
    "    for hero in h + [h_n]:\n",
    "        target = hero\n",
    "        try:\n",
    "            new_steps = nx.shortest_path(subgraph, source, target)\n",
    "            path += new_steps[1:]\n",
    "            source = hero\n",
    "        except:\n",
    "            return \"There is no such path\"\n",
    "        \n",
    "    # Take only the comics that the shortest path visits.\n",
    "    comics = [step for step in path if graph.nodes[step]['type'] == 'comic']\n",
    "\n",
    "    # Remove a comic if appears more than one time consecutively.\n",
    "    comics = [comic for pos,comic in enumerate(comics[:-1]) if comic != comics[pos+1]] + [comics[-1]]\n",
    "\n",
    "    return comics"
   ]
  },
  {
   "cell_type": "code",
   "execution_count": 136,
   "id": "7e55e2f1",
   "metadata": {},
   "outputs": [
    {
     "data": {
      "text/plain": [
       "['COC 1', 'BP3 8', 'DEF 107', 'ST 124/2']"
      ]
     },
     "execution_count": 136,
     "metadata": {},
     "output_type": "execute_result"
    }
   ],
   "source": [
    "h = ['SCARLET WITCH/WANDA', 'ZURI', 'THOR/DR. DONALD BLAK']\n",
    "h_1 = 'INVISIBLE WOMAN/SUE'\n",
    "h_n = 'ZOTA'\n",
    "\n",
    "functionality_3(second_graph(nodes, edges), h, h_1, h_n)"
   ]
  }
 ],
 "metadata": {
  "kernelspec": {
   "display_name": "Python 3",
   "language": "python",
   "name": "python3"
  },
  "language_info": {
   "codemirror_mode": {
    "name": "ipython",
    "version": 3
   },
   "file_extension": ".py",
   "mimetype": "text/x-python",
   "name": "python",
   "nbconvert_exporter": "python",
   "pygments_lexer": "ipython3",
   "version": "3.10.9"
  },
  "vscode": {
   "interpreter": {
    "hash": "773286f42bdafd8588749582ed653d25b280a530e585f5f155cb0082e5f8cdaa"
   }
  }
 },
 "nbformat": 4,
 "nbformat_minor": 5
}

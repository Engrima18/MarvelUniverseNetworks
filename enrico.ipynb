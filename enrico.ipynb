{
 "cells": [
  {
   "cell_type": "code",
   "execution_count": 19,
   "id": "8cc987ea-5427-4b64-942b-054794002f46",
   "metadata": {},
   "outputs": [],
   "source": [
    "import networkx as nx\n",
    "import pandas as pd\n",
    "import numpy as np\n",
    "from collections import defaultdict\n",
    "import matplotlib.pyplot as plt"
   ]
  },
  {
   "attachments": {},
   "cell_type": "markdown",
   "id": "994fb599",
   "metadata": {},
   "source": [
    "# Parte di Matteo per il setup"
   ]
  },
  {
   "cell_type": "code",
   "execution_count": 5,
   "id": "a62b4de4",
   "metadata": {},
   "outputs": [],
   "source": [
    "from functions import load_graph_1, load_graph_2 , top_N_filter\n",
    "\n",
    "graph1 = load_graph_1()\n",
    "graph2 = load_graph_2()\n"
   ]
  },
  {
   "attachments": {},
   "cell_type": "markdown",
   "id": "87f2f96b",
   "metadata": {},
   "source": [
    "# Functionality 2 - Find top superheroes!"
   ]
  },
  {
   "attachments": {},
   "cell_type": "markdown",
   "id": "4a349438",
   "metadata": {},
   "source": [
    "#### Brief introductoin to centrality\n",
    "\n",
    "The concept of _centrality_ in networks (thus in graphs) is crucial for analyzing the most relevant factors, revealing the parts of the network that need the most attention.\n",
    "\n",
    "We have different types of centrality that represent a different characteristic of a node in a network:\n",
    "\n",
    "1. **Degree centrality** assigns an importance score based simply on the number of links held by each node, i.e. how many direct connections each node has to other nodes in the network. In our case is very useful for finding very connected (popular) heroes. So this centrality is high for heroes with more collaborations or antagonists/rivals and that appear in many comics. Formal definition:\n",
    "$$Degree\\_ centrality(v) = \\frac{degree(v)}{(n-1)}$$\n",
    "\n",
    "\n",
    "2. **Betweenness centrality** measures the number of times a node lies on the shortest path between other nodes. This measure shows which nodes are ‘bridges’ between nodes in a network. It is useful for finding the individuals who influence the flow around a system but we have to pay attention: a high betweenness count could indicate someone holds authority over disparate clusters in a network, or just that they are on the periphery of both clusters. So we could find some hero that has an high centrality simply because makes an appearance in many comic books but it is not a properly a fundamental node. Formal definition:\n",
    "$$Betweenness\\_ centrality(v) = \\sum_{u,v \\in V} \\frac{g_{v}(u,v)}{g(u,v)} \\cdot \\frac{(n-1)(n-2)}{2} \\space, \\space\\space\\space g_{v}(u,v)= shortest\\_ path(u-v) \\space that \\space passes \\space through \\space v\\space, \\space\\space\\space g(u,v)= shortest\\_ path( u-v ) $$\n",
    "\n",
    "\n",
    "3. **Closeness centrality** scores each node based on their ‘closeness’ to all other nodes in the network. This measure calculates the shortest paths between all nodes, then assigns each node a score based on its sum of shortest paths. It is useful for finding the individuals who are best placed to influence the entire network most quickly and can help find good ‘broadcasters’, but in a highly-connected network, you will often find all nodes have a similar score. Fortunately, in our case we have a sparse graph ( density < 0.01) so this metric is positively discriminating. Formal definition:\n",
    "$$Closeness\\_ centrality(v) = \\frac{(n-1)}{\\sum_{u \\in V} distance(v, u)} \\space, \\space\\space\\space distance(v, u)=  number\\space of\\space edges\\space between\\space nodes\\space v\\space and\\space u $$\n",
    "\n",
    "4. **PageRank centrality** assigns nodes a score based on their connections, and their connections’ connections (simulating the citation system in academic papers). This measure uncovers nodes whose influence extends beyond their direct connections into the wider network. Because it takes into account direction and connection weight, PageRank can be helpful for understanding citations and authority, i.e. dead end pages (no links)."
   ]
  },
  {
   "cell_type": "code",
   "execution_count": 1,
   "id": "efb70e85",
   "metadata": {},
   "outputs": [],
   "source": [
    "from functions import clean_comm"
   ]
  },
  {
   "cell_type": "code",
   "execution_count": 2,
   "id": "a582b7cb",
   "metadata": {},
   "outputs": [],
   "source": [
    "def functionality_2(graph, node, metric, N=6439):\n",
    "\n",
    "    graph = top_N_filter(graph, N)\n",
    "\n",
    "    metric = clean_comm(metric)\n",
    "    result = eval(f'nx.{metric}(graph)[node]')\n",
    "    return (node, result)"
   ]
  },
  {
   "cell_type": "code",
   "execution_count": 18,
   "id": "7e7f5001",
   "metadata": {},
   "outputs": [
    {
     "name": "stdout",
     "output_type": "stream",
     "text": [
      "Centrality for the node SPIDER-MAN/PETER PAR\n",
      "Degree centrality: 0.2705607476635514\n",
      "Betweenness centrality: 0.07358526356259767\n",
      "Closeness centrality: 0.5741568906637035\n",
      "Pagerank centrality: 0.004745481147019864\n"
     ]
    }
   ],
   "source": [
    "node = \"SPIDER-MAN/PETER PAR\"\n",
    "centr_types = [\"Degree\", \"Betweenness\", \"Closeness\", \"Pagerank\"]\n",
    "centr_measures = []\n",
    "print(f'Centrality for the node {node}')\n",
    "\n",
    "for centr in centr_types:\n",
    "    measure = functionality_2(graph1, node, centr)[1]\n",
    "    centr_measures.append(measure)\n",
    "    print(f'{centr} centrality: {measure}')"
   ]
  },
  {
   "attachments": {},
   "cell_type": "markdown",
   "id": "f35d0f54",
   "metadata": {},
   "source": [
    "# Functionality 4 - Disconnecting Graphs"
   ]
  },
  {
   "attachments": {},
   "cell_type": "markdown",
   "id": "e85aa9be",
   "metadata": {},
   "source": [
    "# Visualization 2 - Visualize centrality measure"
   ]
  },
  {
   "cell_type": "code",
   "execution_count": 35,
   "id": "c351fb0b",
   "metadata": {},
   "outputs": [],
   "source": [
    "def centr_table(graph, metric, N):\n",
    "    data = defaultdict(list)\n",
    "    graph_tmp = top_N_filter(graph, N)\n",
    "    for node in graph_tmp.nodes:\n",
    "        data['node'].append(node)\n",
    "        data['centrality'].append(functionality_2(graph, node, metric, N)[1])\n",
    "\n",
    "    data['avg'] = sum(data['centrality'])/N\n",
    "\n",
    "    return data"
   ]
  },
  {
   "attachments": {},
   "cell_type": "markdown",
   "id": "1de644a1",
   "metadata": {},
   "source": [
    "Visualizing our results in tabular form with threee columns:\n",
    ">- node name;\n",
    ">- centrality measure of that specific node;\n",
    ">- average centrality over all the network's nodes."
   ]
  },
  {
   "cell_type": "code",
   "execution_count": 37,
   "id": "6634802c",
   "metadata": {},
   "outputs": [
    {
     "data": {
      "text/html": [
       "<div>\n",
       "<style scoped>\n",
       "    .dataframe tbody tr th:only-of-type {\n",
       "        vertical-align: middle;\n",
       "    }\n",
       "\n",
       "    .dataframe tbody tr th {\n",
       "        vertical-align: top;\n",
       "    }\n",
       "\n",
       "    .dataframe thead th {\n",
       "        text-align: right;\n",
       "    }\n",
       "</style>\n",
       "<table border=\"1\" class=\"dataframe\">\n",
       "  <thead>\n",
       "    <tr style=\"text-align: right;\">\n",
       "      <th></th>\n",
       "      <th>node</th>\n",
       "      <th>centrality</th>\n",
       "      <th>avg</th>\n",
       "    </tr>\n",
       "  </thead>\n",
       "  <tbody>\n",
       "    <tr>\n",
       "      <th>0</th>\n",
       "      <td>ANGEL/WARREN KENNETH</td>\n",
       "      <td>0.979798</td>\n",
       "      <td>0.814141</td>\n",
       "    </tr>\n",
       "    <tr>\n",
       "      <th>1</th>\n",
       "      <td>ANT-MAN/DR. HENRY J.</td>\n",
       "      <td>0.939394</td>\n",
       "      <td>0.814141</td>\n",
       "    </tr>\n",
       "    <tr>\n",
       "      <th>2</th>\n",
       "      <td>BANNER, BETTY ROSS T</td>\n",
       "      <td>0.767677</td>\n",
       "      <td>0.814141</td>\n",
       "    </tr>\n",
       "    <tr>\n",
       "      <th>3</th>\n",
       "      <td>BEAST/HENRY &amp;HANK&amp; P</td>\n",
       "      <td>0.979798</td>\n",
       "      <td>0.814141</td>\n",
       "    </tr>\n",
       "    <tr>\n",
       "      <th>4</th>\n",
       "      <td>BLACK KNIGHT V/DANE</td>\n",
       "      <td>0.909091</td>\n",
       "      <td>0.814141</td>\n",
       "    </tr>\n",
       "    <tr>\n",
       "      <th>5</th>\n",
       "      <td>BLACK PANTHER/T'CHAL</td>\n",
       "      <td>0.888889</td>\n",
       "      <td>0.814141</td>\n",
       "    </tr>\n",
       "    <tr>\n",
       "      <th>6</th>\n",
       "      <td>BLACK WIDOW/NATASHA</td>\n",
       "      <td>0.969697</td>\n",
       "      <td>0.814141</td>\n",
       "    </tr>\n",
       "    <tr>\n",
       "      <th>7</th>\n",
       "      <td>CAGE, LUKE/CARL LUCA</td>\n",
       "      <td>0.919192</td>\n",
       "      <td>0.814141</td>\n",
       "    </tr>\n",
       "    <tr>\n",
       "      <th>8</th>\n",
       "      <td>CAPTAIN AMERICA</td>\n",
       "      <td>1.000000</td>\n",
       "      <td>0.814141</td>\n",
       "    </tr>\n",
       "    <tr>\n",
       "      <th>9</th>\n",
       "      <td>CAPTAIN BRITAIN/BRIA</td>\n",
       "      <td>0.838384</td>\n",
       "      <td>0.814141</td>\n",
       "    </tr>\n",
       "  </tbody>\n",
       "</table>\n",
       "</div>"
      ],
      "text/plain": [
       "                   node  centrality       avg\n",
       "0  ANGEL/WARREN KENNETH    0.979798  0.814141\n",
       "1  ANT-MAN/DR. HENRY J.    0.939394  0.814141\n",
       "2  BANNER, BETTY ROSS T    0.767677  0.814141\n",
       "3  BEAST/HENRY &HANK& P    0.979798  0.814141\n",
       "4   BLACK KNIGHT V/DANE    0.909091  0.814141\n",
       "5  BLACK PANTHER/T'CHAL    0.888889  0.814141\n",
       "6   BLACK WIDOW/NATASHA    0.969697  0.814141\n",
       "7  CAGE, LUKE/CARL LUCA    0.919192  0.814141\n",
       "8       CAPTAIN AMERICA    1.000000  0.814141\n",
       "9  CAPTAIN BRITAIN/BRIA    0.838384  0.814141"
      ]
     },
     "execution_count": 37,
     "metadata": {},
     "output_type": "execute_result"
    }
   ],
   "source": [
    "centrality_tab = pd.DataFrame(centr_table(graph1, \"degree\", 100))\n",
    "centrality_tab.head(10)"
   ]
  },
  {
   "cell_type": "code",
   "execution_count": 80,
   "id": "9e4aa08d",
   "metadata": {},
   "outputs": [
    {
     "data": {
      "image/png": "[encoded data removed]",
      "text/plain": [
       "<Figure size 640x480 with 1 Axes>"
      ]
     },
     "metadata": {},
     "output_type": "display_data"
    }
   ],
   "source": [
    "plt.hist(centrality_tab.centrality, density=True, bins = centrality_tab.shape[0])\n",
    "plt.title(\"Centrality distribution\")\n",
    "plt.vlines( x = centrality_tab.avg[1], ymin=0, ymax=14,\n",
    "           colors = 'purple', ls=':', lw=3,\n",
    "           label = 'vline_multiple - full height')\n",
    " \n",
    "plt.show()"
   ]
  },
  {
   "attachments": {},
   "cell_type": "markdown",
   "id": "5e6638cf",
   "metadata": {},
   "source": [
    "# Algorithmic question"
   ]
  },
  {
   "cell_type": "code",
   "execution_count": 220,
   "id": "390c6ef5",
   "metadata": {},
   "outputs": [],
   "source": [
    "# initialize the phone lock grid screen\n",
    "G = nx.Graph()\n",
    "G.add_nodes_from(np.arange(1,10)) # each node of our graph represetns a ponit                                  \n",
    "edges = []                          # in the the lock scren\n",
    "for i in G.nodes():\n",
    "    neighbours = []                \n",
    "    if i % 3 != 0:\n",
    "        neighbours.append((i,i+1))\n",
    "    if i not in [7,8,9]:\n",
    "        neighbours.append((i,i+3))\n",
    "    if i in [1,4,7]:\n",
    "        neighbours.append((i,i+2))\n",
    "    if i in [1,2,3]:\n",
    "        neighbours.append((i,i+6))\n",
    "        \n",
    "    G.add_edges_from(neighbours)      # each edge correspond to a valid move\n",
    "\n",
    "\n",
    "nodes = list(G.nodes())\n",
    "edges = list(G.edges())\n"
   ]
  },
  {
   "cell_type": "code",
   "execution_count": 227,
   "id": "f029c39c",
   "metadata": {},
   "outputs": [
    {
     "data": {
      "image/png": "[encoded data removed]",
      "text/plain": [
       "<Figure size 640x480 with 1 Axes>"
      ]
     },
     "metadata": {},
     "output_type": "display_data"
    }
   ],
   "source": [
    "plt.clf()\n",
    "nx.draw(G, with_labels=True)\n",
    "plt.show()"
   ]
  },
  {
   "cell_type": "code",
   "execution_count": 232,
   "id": "bbceec02",
   "metadata": {},
   "outputs": [],
   "source": [
    "def check_not_in(nodi, lista):\n",
    "    lista = np.array(lista, dtype=np.int8)\n",
    "    return np.all(np.isin(nodi, lista, invert=True) == True)\n",
    "\n",
    "\n",
    "def find_path(node,edges, commands, step, vis, ):\n",
    "    \n",
    "    # base case of the recursion\n",
    "    if len(commands)==0 and node not in vis:  # if we can read every command we found a valid pattern (path)\n",
    "        vis.append(node)\n",
    "        return 1 \n",
    "\n",
    "    elif len(commands) == 0: # control in case we find a cycle at the last move -> this is not valid\n",
    "        return 0\n",
    "        \n",
    "    # take the first command in our string with the sequence of commands\n",
    "    command = commands[0]\n",
    "\n",
    "    # check condition to go backwards in the path based on where we are in the recursion \n",
    "    if vis != []:\n",
    "        try:\n",
    "            idx = vis.index(node)\n",
    "            vis = vis[:idx]\n",
    "        except:\n",
    "            vis = vis\n",
    "    \n",
    "    # notice that a step U or D conncets nodes with a distance 3 or 6 in terms of labels of nodes!\n",
    "    # a step R or L connects nodes with distance 1 or 2 in terms of labels \n",
    "    # rember that the graph is built in order to avoid edges on \"diagonal\" direction\n",
    "\n",
    "    # now accroding to the command we proceed with a particular \"direction\" on our screen\n",
    "    if command == \"U\" :\n",
    "\n",
    "        # pick the nodes where I pass through when moving on the \"legal\" direction\n",
    "        next = np.array([node -3*step, node -3*int(step/2)] if step==2 else [node -3*step])\n",
    "\n",
    "        # in order to avoid any cycle we control that the next node is not in the visited set of nodes\n",
    "        # check if the move is a \"legal\" move, i.e. the edge between the current node and next does exist\n",
    "        if check_not_in(next, vis) and (tuple(sorted((node, next[0]))) in edges):\n",
    "            vis.append(node)   # add the current node to the list of visited nodes\n",
    "\n",
    "            # do the same for the nodes that I need to overtake in order to reach the next position\n",
    "            if len(next)>1:             \n",
    "                vis.append(next[1])    # to control that we don't have any intersection on a specific pattern\n",
    "            \n",
    "            # proceed with the recursion both moving on the given direction with a single and a \"double\" step\n",
    "            return find_path(next[0], edges, commands[1:], 1, vis) + find_path(next[0], edges, commands[1:], 2, vis) \n",
    "\n",
    "    elif command == \"D\":\n",
    "        next = np.array([node +3*step, node +3*int(step/2)] if step==2 else [node +3*step])\n",
    "        if check_not_in(next, vis) and (tuple(sorted((node, next[0]))) in edges):\n",
    "            vis.append(node)\n",
    "            if len(next)>1:  # note that this command works only in case of double-step move\n",
    "                vis.append(next[1])\n",
    "            return find_path(next[0], edges, commands[1:], 1, vis) + find_path(next[0], edges, commands[1:], 2, vis)\n",
    "    \n",
    "    elif command == \"L\":\n",
    "        next = np.array([node -1*step, node -1*int(step/2)] if step==2 else [node -1*step])\n",
    "        if check_not_in(next, vis) and (tuple(sorted((node, next[0]))) in edges):\n",
    "            vis.append(node)\n",
    "            if len(next)>1:\n",
    "                vis.append(next[1])\n",
    "            return find_path(next[0], edges, commands[1:], 1, vis) + find_path(next[0], edges, commands[1:], 2, vis)\n",
    "\n",
    "    elif command == \"R\":\n",
    "        next = np.array([node +1*step, node +1*int(step/2)] if step==2 else [node +1*step])\n",
    "        if check_not_in(next, vis) and (tuple(sorted((node, next[0]))) in edges):\n",
    "            vis.append(node)\n",
    "            if len(next)>1:\n",
    "                vis.append(next[1])\n",
    "            return find_path(next[0], edges, commands[1:], 1, vis) + find_path(next[0], edges, commands[1:], 2, vis)\n",
    "\n",
    "    return 0\n",
    "\n",
    "\n",
    "\n",
    "def count_patt( commands, nodes, edges):\n",
    "\n",
    "    # or commands that are not informative of any direction\n",
    "    for c in commands:\n",
    "        if c not in \"RLUD\":\n",
    "            print(f'command {c} not valid!')\n",
    "            return 0\n",
    "\n",
    "    # count all the \"possible\" patterns given the commands\n",
    "    count = 0\n",
    "    for n in nodes:\n",
    "        count += find_path( n,edges, commands, step=1, vis=[])\n",
    "        count += find_path( n,edges, commands, step=2, vis=[])\n",
    "    return count"
   ]
  },
  {
   "attachments": {},
   "cell_type": "markdown",
   "id": "a701a965",
   "metadata": {},
   "source": [
    "Reporting some example"
   ]
  },
  {
   "cell_type": "code",
   "execution_count": 226,
   "id": "c14b3178-8015-4bfd-8967-55c3f4dd5410",
   "metadata": {},
   "outputs": [
    {
     "name": "stdout",
     "output_type": "stream",
     "text": [
      "For the sequence of commands \"DRU\" we have 15 possible paths.\n"
     ]
    }
   ],
   "source": [
    "# reading in input the tentative commands\n",
    "commands = input()\n",
    "print(f'For the sequence of commands \"{commands}\" we have {count_patt(commands, nodes, edges)} possible paths.')"
   ]
  },
  {
   "cell_type": "code",
   "execution_count": 229,
   "id": "c14b3178-8015-4bfd-8967-55c3f4dd5410",
   "metadata": {},
   "outputs": [
    {
     "name": "stdout",
     "output_type": "stream",
     "text": [
      "For the sequence of commands \"R\" we have 9 possible paths.\n"
     ]
    }
   ],
   "source": [
    "commands = input()\n",
    "print(f'For the sequence of commands \"{commands}\" we have {count_patt(commands, nodes, edges)} possible paths.')"
   ]
  },
  {
   "cell_type": "code",
   "execution_count": 233,
   "id": "c14b3178-8015-4bfd-8967-55c3f4dd5410",
   "metadata": {},
   "outputs": [
    {
     "name": "stdout",
     "output_type": "stream",
     "text": [
      "For the sequence of commands \"LDRDRUL\" we have 0 possible paths.\n"
     ]
    }
   ],
   "source": [
    "commands = input()\n",
    "print(f'For the sequence of commands \"{commands}\" we have {count_patt(commands, nodes, edges)} possible paths.')"
   ]
  }
 ],
 "metadata": {
  "kernelspec": {
   "display_name": "base",
   "language": "python",
   "name": "python3"
  },
  "language_info": {
   "codemirror_mode": {
    "name": "ipython",
    "version": 3
   },
   "file_extension": ".py",
   "mimetype": "text/x-python",
   "name": "python",
   "nbconvert_exporter": "python",
   "pygments_lexer": "ipython3",
   "version": "3.9.13"
  },
  "vscode": {
   "interpreter": {
    "hash": "8dfa684c53379946cb58d03646b121b1d551c0ff5a0783528943c725648ba031"
   }
  }
 },
 "nbformat": 4,
 "nbformat_minor": 5
}
